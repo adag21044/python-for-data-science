{
  "nbformat": 4,
  "nbformat_minor": 0,
  "metadata": {
    "colab": {
      "provenance": [],
      "authorship_tag": "ABX9TyPAltKzNAwHKYMrwppvrLZn",
      "include_colab_link": true
    },
    "kernelspec": {
      "name": "python3",
      "display_name": "Python 3"
    },
    "language_info": {
      "name": "python"
    }
  },
  "cells": [
    {
      "cell_type": "markdown",
      "metadata": {
        "id": "view-in-github",
        "colab_type": "text"
      },
      "source": [
        "<a href=\"https://colab.research.google.com/github/adag21044/python-for-data-science/blob/main/python.ipynb\" target=\"_parent\"><img src=\"https://colab.research.google.com/assets/colab-badge.svg\" alt=\"Open In Colab\"/></a>"
      ]
    },
    {
      "cell_type": "markdown",
      "source": [
        "3rd video finished"
      ],
      "metadata": {
        "id": "WzwarApfslSg"
      }
    },
    {
      "cell_type": "markdown",
      "source": [
        "Print"
      ],
      "metadata": {
        "id": "3co6fEHSpOT4"
      }
    },
    {
      "cell_type": "code",
      "execution_count": null,
      "metadata": {
        "colab": {
          "base_uri": "https://localhost:8080/"
        },
        "id": "zTkCGPsMoTry",
        "outputId": "841785aa-1555-4519-ade2-32445a1e5f79"
      },
      "outputs": [
        {
          "output_type": "stream",
          "name": "stdout",
          "text": [
            "Hello There\n"
          ]
        }
      ],
      "source": [
        "# printing something\n",
        "print(\"Hello There\")"
      ]
    },
    {
      "cell_type": "markdown",
      "source": [
        "Variables"
      ],
      "metadata": {
        "id": "NznMUbs7ptFn"
      }
    },
    {
      "cell_type": "code",
      "source": [
        "first_name = \"George\"\n",
        "second_name = \"Bush\"\n",
        "is_student = False;\n",
        "\n",
        "print(first_name + \" \" + second_name)\n",
        "print(f\"Hello {first_name}\")\n",
        "\n",
        "age = 23\n",
        "ratio = 0.3"
      ],
      "metadata": {
        "colab": {
          "base_uri": "https://localhost:8080/"
        },
        "id": "O89sN7Hcps0Y",
        "outputId": "4afa535d-2dbb-4b08-bf13-291de7d1ab7c"
      },
      "execution_count": null,
      "outputs": [
        {
          "output_type": "stream",
          "name": "stdout",
          "text": [
            "George Bush\n",
            "Hello George\n"
          ]
        }
      ]
    },
    {
      "cell_type": "markdown",
      "source": [
        "Conditions"
      ],
      "metadata": {
        "id": "T7J_p793rIPn"
      }
    },
    {
      "cell_type": "code",
      "source": [
        "is_student = True\n",
        "\n",
        "if is_student:\n",
        "    print(\"Student\")\n",
        "else:\n",
        "    print(\"Not Student\")"
      ],
      "metadata": {
        "colab": {
          "base_uri": "https://localhost:8080/"
        },
        "id": "kAq2h5xXrGGw",
        "outputId": "ed6f743e-bf05-4bf7-a237-2763b04fdc7d"
      },
      "execution_count": null,
      "outputs": [
        {
          "output_type": "stream",
          "name": "stdout",
          "text": [
            "Student\n"
          ]
        }
      ]
    },
    {
      "cell_type": "markdown",
      "source": [
        "Typecasting"
      ],
      "metadata": {
        "id": "6LjK0hustALc"
      }
    },
    {
      "cell_type": "code",
      "source": [
        "name = \"George\"\n",
        "age = 21\n",
        "gpa = 2.5\n",
        "is_student = True\n",
        "\n",
        "print(type(name))\n",
        "print(type(age))\n",
        "print(type(gpa))\n",
        "print(type(is_student))\n",
        "\n",
        "age = float(age)\n",
        "print(type(age))"
      ],
      "metadata": {
        "colab": {
          "base_uri": "https://localhost:8080/"
        },
        "id": "41FkW7lftCT6",
        "outputId": "1773b42b-d0fa-4338-ed5b-f4b1c4048240"
      },
      "execution_count": null,
      "outputs": [
        {
          "output_type": "stream",
          "name": "stdout",
          "text": [
            "<class 'str'>\n",
            "<class 'int'>\n",
            "<class 'float'>\n",
            "<class 'bool'>\n",
            "<class 'float'>\n"
          ]
        }
      ]
    },
    {
      "cell_type": "markdown",
      "source": [
        "Input"
      ],
      "metadata": {
        "id": "Cnwx_OKUwrNL"
      }
    },
    {
      "cell_type": "code",
      "source": [
        "name = input(\"Enter your name: \")\n",
        "age = input(\"Enter your age: \")\n",
        "\n",
        "age = int(age)\n",
        "\n",
        "# age = int(input(\"Enter your age: \"))\n",
        "\n",
        "age += 1\n",
        "\n",
        "print(f\"Hello {name}\")\n",
        "print(f\"You are {age} years old\")"
      ],
      "metadata": {
        "colab": {
          "base_uri": "https://localhost:8080/"
        },
        "id": "3Qjpcrtnwt6T",
        "outputId": "e124c695-0f29-4154-e918-cf832b2cc40f"
      },
      "execution_count": null,
      "outputs": [
        {
          "output_type": "stream",
          "name": "stdout",
          "text": [
            "Enter your name: Brett\n",
            "Enter your age: 21\n",
            "Hello Brett\n",
            "You are 22 years old\n"
          ]
        }
      ]
    },
    {
      "cell_type": "code",
      "source": [
        "length = input(\"Enter the length: \")\n",
        "width = input(\"Enter the width: \")\n",
        "\n",
        "length = float(length)\n",
        "width = float(width)\n",
        "\n",
        "area = length * width\n",
        "\n",
        "print(f\"The area is {area}\")"
      ],
      "metadata": {
        "colab": {
          "base_uri": "https://localhost:8080/"
        },
        "id": "_zzAMwU8_St9",
        "outputId": "f7ca0c9e-026a-414b-dbfc-eeaf87ae901d"
      },
      "execution_count": 13,
      "outputs": [
        {
          "output_type": "stream",
          "name": "stdout",
          "text": [
            "Enter the length: 5\n",
            "Enter the width: 10\n",
            "The area is 50.0\n"
          ]
        }
      ]
    }
  ]
}