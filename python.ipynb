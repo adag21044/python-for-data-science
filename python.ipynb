{
  "nbformat": 4,
  "nbformat_minor": 0,
  "metadata": {
    "colab": {
      "provenance": [],
      "authorship_tag": "ABX9TyPrUfLM4t6ED1emk6xYE3OD",
      "include_colab_link": true
    },
    "kernelspec": {
      "name": "python3",
      "display_name": "Python 3"
    },
    "language_info": {
      "name": "python"
    }
  },
  "cells": [
    {
      "cell_type": "markdown",
      "metadata": {
        "id": "view-in-github",
        "colab_type": "text"
      },
      "source": [
        "<a href=\"https://colab.research.google.com/github/adag21044/python-for-data-science/blob/main/python.ipynb\" target=\"_parent\"><img src=\"https://colab.research.google.com/assets/colab-badge.svg\" alt=\"Open In Colab\"/></a>"
      ]
    },
    {
      "cell_type": "markdown",
      "source": [
        "# 6th video finished"
      ],
      "metadata": {
        "id": "WzwarApfslSg"
      }
    },
    {
      "cell_type": "markdown",
      "source": [
        "Print"
      ],
      "metadata": {
        "id": "3co6fEHSpOT4"
      }
    },
    {
      "cell_type": "code",
      "execution_count": null,
      "metadata": {
        "colab": {
          "base_uri": "https://localhost:8080/"
        },
        "id": "zTkCGPsMoTry",
        "outputId": "841785aa-1555-4519-ade2-32445a1e5f79"
      },
      "outputs": [
        {
          "output_type": "stream",
          "name": "stdout",
          "text": [
            "Hello There\n"
          ]
        }
      ],
      "source": [
        "# printing something\n",
        "print(\"Hello There\")"
      ]
    },
    {
      "cell_type": "markdown",
      "source": [
        "Variables"
      ],
      "metadata": {
        "id": "NznMUbs7ptFn"
      }
    },
    {
      "cell_type": "code",
      "source": [
        "first_name = \"George\"\n",
        "second_name = \"Bush\"\n",
        "is_student = False;\n",
        "\n",
        "print(first_name + \" \" + second_name)\n",
        "print(f\"Hello {first_name}\")\n",
        "\n",
        "age = 23\n",
        "ratio = 0.3"
      ],
      "metadata": {
        "colab": {
          "base_uri": "https://localhost:8080/"
        },
        "id": "O89sN7Hcps0Y",
        "outputId": "4afa535d-2dbb-4b08-bf13-291de7d1ab7c"
      },
      "execution_count": null,
      "outputs": [
        {
          "output_type": "stream",
          "name": "stdout",
          "text": [
            "George Bush\n",
            "Hello George\n"
          ]
        }
      ]
    },
    {
      "cell_type": "markdown",
      "source": [
        "Conditions"
      ],
      "metadata": {
        "id": "T7J_p793rIPn"
      }
    },
    {
      "cell_type": "code",
      "source": [
        "is_student = True\n",
        "\n",
        "if (is_student):\n",
        "    print(\"Student\")\n",
        "else:\n",
        "    print(\"Not Student\")"
      ],
      "metadata": {
        "colab": {
          "base_uri": "https://localhost:8080/"
        },
        "id": "kAq2h5xXrGGw",
        "outputId": "2b53c9cf-2a24-439a-ad24-08674f2601b2"
      },
      "execution_count": 15,
      "outputs": [
        {
          "output_type": "stream",
          "name": "stdout",
          "text": [
            "Student\n"
          ]
        }
      ]
    },
    {
      "cell_type": "code",
      "source": [
        "response = input(\"Would you like to come \")\n",
        "\n",
        "if(response == \"yes\"):\n",
        "  print(\"Welcome\")\n",
        "else:\n",
        "  print(\"Bye\")"
      ],
      "metadata": {
        "colab": {
          "base_uri": "https://localhost:8080/"
        },
        "id": "Jkby210atZ8I",
        "outputId": "19209bf1-8d1c-4f24-dec4-9cf8b00f9b46"
      },
      "execution_count": 18,
      "outputs": [
        {
          "output_type": "stream",
          "name": "stdout",
          "text": [
            "Would you like to come yes\n",
            "Welcome\n"
          ]
        }
      ]
    },
    {
      "cell_type": "markdown",
      "source": [
        "Typecasting"
      ],
      "metadata": {
        "id": "6LjK0hustALc"
      }
    },
    {
      "cell_type": "code",
      "source": [
        "name = \"George\"\n",
        "age = 21\n",
        "gpa = 2.5\n",
        "is_student = True\n",
        "\n",
        "print(type(name))\n",
        "print(type(age))\n",
        "print(type(gpa))\n",
        "print(type(is_student))\n",
        "\n",
        "age = float(age)\n",
        "print(type(age))"
      ],
      "metadata": {
        "colab": {
          "base_uri": "https://localhost:8080/"
        },
        "id": "41FkW7lftCT6",
        "outputId": "1773b42b-d0fa-4338-ed5b-f4b1c4048240"
      },
      "execution_count": null,
      "outputs": [
        {
          "output_type": "stream",
          "name": "stdout",
          "text": [
            "<class 'str'>\n",
            "<class 'int'>\n",
            "<class 'float'>\n",
            "<class 'bool'>\n",
            "<class 'float'>\n"
          ]
        }
      ]
    },
    {
      "cell_type": "markdown",
      "source": [
        "Input"
      ],
      "metadata": {
        "id": "Cnwx_OKUwrNL"
      }
    },
    {
      "cell_type": "code",
      "source": [
        "name = input(\"Enter your name: \")\n",
        "age = input(\"Enter your age: \")\n",
        "\n",
        "age = int(age)\n",
        "\n",
        "# age = int(input(\"Enter your age: \"))\n",
        "\n",
        "age += 1\n",
        "\n",
        "print(f\"Hello {name}\")\n",
        "print(f\"You are {age} years old\")"
      ],
      "metadata": {
        "colab": {
          "base_uri": "https://localhost:8080/"
        },
        "id": "3Qjpcrtnwt6T",
        "outputId": "e124c695-0f29-4154-e918-cf832b2cc40f"
      },
      "execution_count": null,
      "outputs": [
        {
          "output_type": "stream",
          "name": "stdout",
          "text": [
            "Enter your name: Brett\n",
            "Enter your age: 21\n",
            "Hello Brett\n",
            "You are 22 years old\n"
          ]
        }
      ]
    },
    {
      "cell_type": "code",
      "source": [
        "x = 5\n",
        "\n",
        "x = x**2\n",
        "print(x)"
      ],
      "metadata": {
        "colab": {
          "base_uri": "https://localhost:8080/"
        },
        "id": "_zzAMwU8_St9",
        "outputId": "2999da1f-b16f-43b1-fc63-3b091f12edad"
      },
      "execution_count": 5,
      "outputs": [
        {
          "output_type": "stream",
          "name": "stdout",
          "text": [
            "25\n"
          ]
        }
      ]
    },
    {
      "cell_type": "code",
      "source": [
        "import math\n",
        "\n",
        "x = math.pi\n",
        "print(math.ceil(x))\n",
        "print(math.floor(x))"
      ],
      "metadata": {
        "colab": {
          "base_uri": "https://localhost:8080/"
        },
        "id": "FaFh_iI0qaMq",
        "outputId": "28532025-e5ac-497f-c565-9cd04fa59247"
      },
      "execution_count": 7,
      "outputs": [
        {
          "output_type": "stream",
          "name": "stdout",
          "text": [
            "4\n",
            "3\n"
          ]
        }
      ]
    },
    {
      "cell_type": "code",
      "source": [
        "r = float(input(\"Enter radius \"))\n",
        "x = math.pi * r *2\n",
        "a = math.pi * r**2\n",
        "\n",
        "print(x)\n",
        "print(round(x))\n",
        "print(a)"
      ],
      "metadata": {
        "colab": {
          "base_uri": "https://localhost:8080/"
        },
        "id": "RzEF7XbFq4iY",
        "outputId": "d1a97930-b42e-4976-f467-4e7aac68c745"
      },
      "execution_count": 12,
      "outputs": [
        {
          "output_type": "stream",
          "name": "stdout",
          "text": [
            "Enter radius 2\n",
            "12.566370614359172\n",
            "13\n",
            "12.566370614359172\n"
          ]
        }
      ]
    },
    {
      "cell_type": "markdown",
      "source": [
        "Math"
      ],
      "metadata": {
        "id": "62HQDgpcuIhQ"
      }
    },
    {
      "cell_type": "code",
      "source": [
        "h = float(input())\n",
        "l = float(input())\n",
        "\n",
        "x = pow(h, 2) + l**2\n",
        "\n",
        "x = math.sqrt(x)\n",
        "\n",
        "print(x)"
      ],
      "metadata": {
        "colab": {
          "base_uri": "https://localhost:8080/"
        },
        "id": "kORgSf3mr6sF",
        "outputId": "1d6e6902-981e-4e4a-df0d-2dcc4e9fb773"
      },
      "execution_count": 14,
      "outputs": [
        {
          "output_type": "stream",
          "name": "stdout",
          "text": [
            "3\n",
            "4\n",
            "5.0\n"
          ]
        }
      ]
    },
    {
      "cell_type": "code",
      "source": [
        "o = input(\"Choose you operation\")\n",
        "x = float(input(\"Enter first number\"))\n",
        "y = float(input(\"Enter second number\"))\n",
        "\n",
        "if(o == \"+\"):\n",
        "  print(x + y)\n",
        "elif(o == \"-\"):\n",
        "  print(x - y)\n",
        "elif(o == \"*\"):\n",
        "  print(x * y)\n",
        "elif(o == \"/\"):\n",
        "  print(x / y)"
      ],
      "metadata": {
        "colab": {
          "base_uri": "https://localhost:8080/"
        },
        "id": "Na0H-jhYuPCQ",
        "outputId": "c1173e93-c8da-4036-c525-c86a3494b85b"
      },
      "execution_count": 21,
      "outputs": [
        {
          "output_type": "stream",
          "name": "stdout",
          "text": [
            "Choose you operation*\n",
            "Enter first number3\n",
            "Enter second number5\n",
            "15.0\n"
          ]
        }
      ]
    }
  ]
}